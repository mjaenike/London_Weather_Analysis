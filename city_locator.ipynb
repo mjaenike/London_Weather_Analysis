{
 "cells": [
  {
   "cell_type": "markdown",
   "metadata": {},
   "source": [
    "# City Raininess\n",
    "\n",
    "##### This notebook allows a user to enter a city and country, and will locate the latitude and longitude of the most populated city following those parameters,if there is one; this utilizes the world_cities CSV. Then, based on the latitude and longitude of the city, historical and forecast data will be determined from the OpenMeteo API. A raininess index is defined, weighting recent raininess more heavily than less recent data."
   ]
  },
  {
   "cell_type": "markdown",
   "metadata": {},
   "source": [
    "***"
   ]
  },
  {
   "cell_type": "code",
   "execution_count": 1,
   "metadata": {},
   "outputs": [],
   "source": [
    "# Importing\n",
    "import pandas as pd\n",
    "import json\n",
    "import requests\n",
    "import datetime"
   ]
  },
  {
   "cell_type": "markdown",
   "metadata": {},
   "source": [
    "***"
   ]
  },
  {
   "cell_type": "markdown",
   "metadata": {},
   "source": [
    "### 1. Converting City and Country to Latitude and Longitude"
   ]
  },
  {
   "cell_type": "code",
   "execution_count": 3,
   "metadata": {},
   "outputs": [],
   "source": [
    "def get_city_latlon(city, country):\n",
    "    '''\n",
    "    Get the latitude and longitude of a city in a country, derived from the world_cities CSV file.\n",
    "    Params:\n",
    "        city: str, the name of the city\n",
    "        country: str, the name of the country\n",
    "    Returns:\n",
    "        a tuple of the latitude and longitude\n",
    "    '''\n",
    "    # Read the world_cities CSV file\n",
    "    world_cities = pd.read_csv('world_cities.csv')\n",
    "\n",
    "    # Filter the dataframe based on the city and country\n",
    "    filtered_cities = world_cities[(world_cities['name'] == city) & (world_cities['country'] == country)]\n",
    "\n",
    "    # Check if any matching cities are found\n",
    "    if len(filtered_cities) > 0:\n",
    "        # Get the longitude of the first matching city\n",
    "        longitude = filtered_cities.iloc[0]['lng']\n",
    "        # Get the latitude of the first matching city\n",
    "        latitude = filtered_cities.iloc[0]['lat']\n",
    "        # Return the latitude and longitude as a tuple\n",
    "        return (latitude, longitude)\n",
    "    else:\n",
    "        # Return None if no matching city is found\n",
    "        return None"
   ]
  },
  {
   "cell_type": "markdown",
   "metadata": {},
   "source": [
    "### <center>Testing</center>"
   ]
  },
  {
   "cell_type": "code",
   "execution_count": 4,
   "metadata": {},
   "outputs": [
    {
     "name": "stdout",
     "output_type": "stream",
     "text": [
      "The latitude and longitude of Mumbai, IN is (19.07283, 72.88261)\n",
      "The latitude and longitude of New York City, US is (40.71427, -74.00597)\n",
      "The latitude and longitude of Tokyo, JP is (35.6895, 139.69171)\n",
      "The latitude and longitude of Walnut Creek, US is (37.90631, -122.06496)\n"
     ]
    }
   ],
   "source": [
    "# Testing the above function\n",
    "\n",
    "# Test case 1: Mumbai, India\n",
    "city = 'Mumbai'\n",
    "country = 'IN'\n",
    "print(f'The latitude and longitude of {city}, {country} is {get_city_latlon(city, country)}')\n",
    "\n",
    "# Test case 2: New York City, United States\n",
    "city = 'New York City'\n",
    "country = 'US'\n",
    "print(f'The latitude and longitude of {city}, {country} is {get_city_latlon(city, country)}')\n",
    "\n",
    "# Test case 3: Tokyo, Japan\n",
    "city = 'Tokyo'\n",
    "country = 'JP'\n",
    "print(f'The latitude and longitude of {city}, {country} is {get_city_latlon(city, country)}')\n",
    "\n",
    "# Test case 4: Walnut Creek, United States\n",
    "city = 'Walnut Creek'\n",
    "country = 'US'\n",
    "print(f'The latitude and longitude of {city}, {country} is {get_city_latlon(city, country)}')"
   ]
  },
  {
   "cell_type": "markdown",
   "metadata": {},
   "source": [
    "***"
   ]
  },
  {
   "cell_type": "markdown",
   "metadata": {},
   "source": [
    "### 2. Collecting Historical Data (Last Year)"
   ]
  },
  {
   "cell_type": "code",
   "execution_count": 20,
   "metadata": {},
   "outputs": [],
   "source": [
    "def get_historical_precipitation(latitude: float, longitude: float) -> dict:\n",
    "    '''\n",
    "    Get the number of days rained and number of mm of rain in the past year\n",
    "    Params:\n",
    "        latitude: float - latitude of the location\n",
    "        longitude: float - longitude of the location\n",
    "    Returns:\n",
    "        a dictionary of the daily rain for the past five years in mm, number of hours of precipitation, and the mean probability of precipitation\n",
    "    '''\n",
    "    \n",
    "    # Get the historical weather data\n",
    "\n",
    "    base_historical_url = \"https://archive-api.open-meteo.com/v1/era5?\"\n",
    "    params_lat_long_ = \"latitude=\" + str(latitude) + \"&longitude=\" + str(longitude)\n",
    "\n",
    "    # Get the current date\n",
    "    current_date = datetime.date.today()\n",
    "    \n",
    "    # Calculate the date five years ago\n",
    "    five_years_ago = current_date - datetime.timedelta(days=365*5)\n",
    "    \n",
    "    # Format the date as YYYY-MM-DD\n",
    "    formatted_date = five_years_ago.strftime(\"%Y-%m-%d\")\n",
    "    \n",
    "    params_dates = \"&start_date=\" + formatted_date + \"&end_date=\" + str(current_date)\n",
    "    param_rain_sum = \"&daily=rain_sum&daily=precipitation_hours&daily=precipitation_probability_mean\"\n",
    "    \n",
    "    total_url = base_historical_url + params_lat_long_ + params_dates + param_rain_sum\n",
    "\n",
    "    response = requests.get(total_url)\n",
    "\n",
    "    historical_data = response.json()\n",
    "    \n",
    "    historical_rain_sum = historical_data['daily']['rain_sum']\n",
    "    historical_precipitation_hours = historical_data['daily']['precipitation_hours']\n",
    "    historical_precipitation_probability = historical_data['daily']['precipitation_probability_mean']\n",
    "    \n",
    "    return {historical_rain_sum, historical_precipitation_hours, historical_precipitation_probability}"
   ]
  },
  {
   "cell_type": "markdown",
   "metadata": {},
   "source": [
    "### <center>Testing</center>"
   ]
  },
  {
   "cell_type": "code",
   "execution_count": 21,
   "metadata": {},
   "outputs": [
    {
     "ename": "TypeError",
     "evalue": "unhashable type: 'list'",
     "output_type": "error",
     "traceback": [
      "\u001b[0;31m---------------------------------------------------------------------------\u001b[0m",
      "\u001b[0;31mTypeError\u001b[0m                                 Traceback (most recent call last)",
      "Cell \u001b[0;32mIn[21], line 7\u001b[0m\n\u001b[1;32m      5\u001b[0m country \u001b[38;5;241m=\u001b[39m \u001b[38;5;124m'\u001b[39m\u001b[38;5;124mUS\u001b[39m\u001b[38;5;124m'\u001b[39m\n\u001b[1;32m      6\u001b[0m latitude, longitude \u001b[38;5;241m=\u001b[39m get_city_latlon(city, country)\n\u001b[0;32m----> 7\u001b[0m \u001b[38;5;28mprint\u001b[39m(get_historical_precipitation(latitude, longitude))\n\u001b[1;32m      9\u001b[0m \u001b[38;5;66;03m# Test 2: New York\u001b[39;00m\n\u001b[1;32m     10\u001b[0m city \u001b[38;5;241m=\u001b[39m \u001b[38;5;124m'\u001b[39m\u001b[38;5;124mNew York City\u001b[39m\u001b[38;5;124m'\u001b[39m\n",
      "Cell \u001b[0;32mIn[20], line 46\u001b[0m, in \u001b[0;36mget_historical_precipitation\u001b[0;34m(latitude, longitude)\u001b[0m\n\u001b[1;32m     43\u001b[0m historical_precipitation_hours \u001b[38;5;241m=\u001b[39m historical_data[\u001b[38;5;124m'\u001b[39m\u001b[38;5;124mdaily\u001b[39m\u001b[38;5;124m'\u001b[39m][\u001b[38;5;124m'\u001b[39m\u001b[38;5;124mprecipitation_hours\u001b[39m\u001b[38;5;124m'\u001b[39m]\n\u001b[1;32m     44\u001b[0m historical_precipitation_probability \u001b[38;5;241m=\u001b[39m historical_data[\u001b[38;5;124m'\u001b[39m\u001b[38;5;124mdaily\u001b[39m\u001b[38;5;124m'\u001b[39m][\u001b[38;5;124m'\u001b[39m\u001b[38;5;124mprecipitation_probability_mean\u001b[39m\u001b[38;5;124m'\u001b[39m]\n\u001b[0;32m---> 46\u001b[0m \u001b[38;5;28;01mreturn\u001b[39;00m {historical_rain_sum, historical_precipitation_hours, historical_precipitation_probability}\n",
      "\u001b[0;31mTypeError\u001b[0m: unhashable type: 'list'"
     ]
    }
   ],
   "source": [
    "# Testing historical precipitation using the get_historical_precipitation function and the get_city_latlon function\n",
    "\n",
    "# Test 1: San Francisco\n",
    "city = 'San Francisco'\n",
    "country = 'US'\n",
    "latitude, longitude = get_city_latlon(city, country)\n",
    "print(get_historical_precipitation(latitude, longitude))\n",
    "\n",
    "# Test 2: New York\n",
    "city = 'New York City'\n",
    "country = 'US'\n",
    "latitude, longitude = get_city_latlon(city, country)\n",
    "print(get_historical_precipitation(latitude, longitude))\n",
    "\n",
    "# Test 3: London\n",
    "city = 'London'\n",
    "country = 'GB'\n",
    "latitude, longitude = get_city_latlon(city, country)\n",
    "print(get_historical_precipitation(latitude, longitude))"
   ]
  },
  {
   "cell_type": "markdown",
   "metadata": {},
   "source": [
    "***"
   ]
  },
  {
   "cell_type": "markdown",
   "metadata": {},
   "source": [
    "### 3. Collecting Forecast Data (Next 7 Days)"
   ]
  },
  {
   "cell_type": "code",
   "execution_count": 15,
   "metadata": {},
   "outputs": [],
   "source": [
    "def get_forecast_precipitation(latitude: float, longitude: float) -> dict:\n",
    "    '''\n",
    "    Get the hourly forecast precipitation for a given latitude and longitude for the next 7 days\n",
    "    Params: \n",
    "        latitude: float - latitude of the location\n",
    "        longitude: float - Longitude of the location\n",
    "    Returns:\n",
    "        dict - Forecast precipitation\n",
    "    '''\n",
    "\n",
    "    # Building the base URL\n",
    "    base_forecast_url = \"https://api.open-meteo.com/v1/forecast?\"\n",
    "    params_lat_long = \"latitude=\" + str(latitude) + \"&longitude=\"  + str(longitude)\n",
    "    params_others = \"&daily=rain_sum\"\n",
    "\n",
    "    final_url = base_forecast_url + params_lat_long + params_others\n",
    "\n",
    "    # Getting the forecast data\n",
    "    response = requests.get(final_url)\n",
    "\n",
    "    # Extracting the forecast precipitation\n",
    "    forecast_data = response.json()\n",
    "    forecast_precipitation = forecast_data['daily']['rain_sum']\n",
    "    return forecast_precipitation"
   ]
  },
  {
   "cell_type": "markdown",
   "metadata": {},
   "source": [
    "### <center>Testing</center>"
   ]
  },
  {
   "cell_type": "code",
   "execution_count": 17,
   "metadata": {},
   "outputs": [
    {
     "name": "stdout",
     "output_type": "stream",
     "text": [
      "[0.0, 0.8, 0.0, 0.0, 0.0, 0.0, 0.0]\n",
      "[0.0, 0.0, 0.0, 0.0, 0.0, 0.0, 0.0]\n",
      "[0.0, 0.0, 0.0, 0.0, 0.0, 0.0, 0.0]\n",
      "[0.0, 0.0, 0.0, 0.0, 0.0, 0.0, 0.0]\n",
      "[22.7, 12.0, 0.0, 0.0, 0.0, 0.0, 0.0]\n"
     ]
    }
   ],
   "source": [
    "# Testing the get_forecast_precipitation function using the get_city_latlon function\n",
    "\n",
    "# Test 1: San Francisco\n",
    "city = 'San Francisco'\n",
    "country = 'US'\n",
    "latitude, longitude = get_city_latlon(city, country)\n",
    "print(get_forecast_precipitation(latitude, longitude))\n",
    "\n",
    "# Test 2: New York\n",
    "city = 'New York City'\n",
    "country = 'US'\n",
    "latitude, longitude = get_city_latlon(city, country)\n",
    "print(get_forecast_precipitation(latitude, longitude))\n",
    "\n",
    "# Test 3: London\n",
    "city = 'London'\n",
    "country = 'GB'\n",
    "latitude, longitude = get_city_latlon(city, country)\n",
    "print(get_forecast_precipitation(latitude, longitude))\n",
    "\n",
    "# Test 4: Mumbai\n",
    "city = 'Mumbai'\n",
    "country = 'IN'\n",
    "latitude, longitude = get_city_latlon(city, country)\n",
    "print(get_forecast_precipitation(latitude, longitude))\n",
    "\n",
    "# Test 5: Tokyo\n",
    "city = 'Tokyo'\n",
    "country = 'JP'\n",
    "latitude, longitude = get_city_latlon(city, country)\n",
    "print(get_forecast_precipitation(latitude, longitude))"
   ]
  },
  {
   "cell_type": "markdown",
   "metadata": {},
   "source": [
    "***"
   ]
  },
  {
   "cell_type": "markdown",
   "metadata": {},
   "source": [
    "### 4. Defining the Raininess Index\n",
    "\n",
    "##### The raininess index combines the daily historical data of amount of rain (mm), hours of precipitation, and the mean probability of precipitation with the hourly forecast data of amount of precipitation"
   ]
  }
 ],
 "metadata": {
  "kernelspec": {
   "display_name": "Python 3",
   "language": "python",
   "name": "python3"
  },
  "language_info": {
   "codemirror_mode": {
    "name": "ipython",
    "version": 3
   },
   "file_extension": ".py",
   "mimetype": "text/x-python",
   "name": "python",
   "nbconvert_exporter": "python",
   "pygments_lexer": "ipython3",
   "version": "3.11.5"
  }
 },
 "nbformat": 4,
 "nbformat_minor": 2
}
